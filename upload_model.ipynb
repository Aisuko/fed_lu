{
 "cells": [
  {
   "cell_type": "code",
   "execution_count": 10,
   "id": "3960dd3e-dcbb-4c46-afd7-44dfd26bf190",
   "metadata": {},
   "outputs": [
    {
     "name": "stdout",
     "output_type": "stream",
     "text": [
      "Note: you may need to restart the kernel to use updated packages.\n"
     ]
    }
   ],
   "source": [
    "%pip install -U -q kagglehub"
   ]
  },
  {
   "cell_type": "code",
   "execution_count": 11,
   "id": "a6bf24b4-de92-4d4a-bcf1-c5a68f26cc70",
   "metadata": {},
   "outputs": [
    {
     "data": {
      "application/vnd.jupyter.widget-view+json": {
       "model_id": "ade9c41225284ef9afa06193447ac439",
       "version_major": 2,
       "version_minor": 0
      },
      "text/plain": [
       "VBox(children=(HTML(value='<center> <img\\nsrc=https://www.kaggle.com/static/images/site-logo.png\\nalt=\\'Kaggle…"
      ]
     },
     "metadata": {},
     "output_type": "display_data"
    }
   ],
   "source": [
    "import kagglehub\n",
    "\n",
    "kagglehub.login()"
   ]
  },
  {
   "cell_type": "code",
   "execution_count": 14,
   "id": "8d7f551f-62b2-4f84-b9c8-22d4f22ffb18",
   "metadata": {},
   "outputs": [],
   "source": [
    "%cp -r FedLU/Log FedLU/Output"
   ]
  },
  {
   "cell_type": "code",
   "execution_count": 15,
   "id": "cff509e9-a8e3-41c1-87d4-d88a9b2d54bc",
   "metadata": {},
   "outputs": [
    {
     "name": "stdout",
     "output_type": "stream",
     "text": [
      "Uploading Model https://www.kaggle.com/models/skywardai/FedLU/pyTorch/default ...\n",
      "More than 50 files detected, creating a zip archive...\n",
      "Starting upload for file /tmp/tmps6rmzmsr/archive.zip\n"
     ]
    },
    {
     "name": "stderr",
     "output_type": "stream",
     "text": [
      "Uploading: 100%|██████████| 1.92G/1.92G [01:11<00:00, 26.9MB/s] "
     ]
    },
    {
     "name": "stdout",
     "output_type": "stream",
     "text": [
      "Upload successful: /tmp/tmps6rmzmsr/archive.zip (2GB)\n"
     ]
    },
    {
     "name": "stderr",
     "output_type": "stream",
     "text": [
      "\n"
     ]
    },
    {
     "name": "stdout",
     "output_type": "stream",
     "text": [
      "Your model instance version has been created.\n",
      "Files are being processed...\n",
      "See at: https://www.kaggle.com/models/skywardai/FedLU/pyTorch/default\n"
     ]
    }
   ],
   "source": [
    "# Replace with path to directory containing model files.\n",
    "LOCAL_MODEL_DIR = 'FedLU/Output'\n",
    "\n",
    "MODEL_SLUG = 'FedLU' # Replace with model slug.\n",
    "\n",
    "# Learn more about naming model variations at\n",
    "# https://www.kaggle.com/docs/models#name-model.\n",
    "VARIATION_SLUG = 'default' # Replace with variation slug.\n",
    "\n",
    "kagglehub.model_upload(\n",
    "  handle = f\"skywardai/{MODEL_SLUG}/pyTorch/{VARIATION_SLUG}\",\n",
    "  local_model_dir = LOCAL_MODEL_DIR,\n",
    "  version_notes = 'Update 2024-09-17')"
   ]
  },
  {
   "cell_type": "code",
   "execution_count": null,
   "id": "f1467cbe-9594-43f8-8a50-4f2fde8371dd",
   "metadata": {},
   "outputs": [],
   "source": []
  }
 ],
 "metadata": {
  "kernelspec": {
   "display_name": "Python 3 (ipykernel)",
   "language": "python",
   "name": "python3"
  },
  "language_info": {
   "codemirror_mode": {
    "name": "ipython",
    "version": 3
   },
   "file_extension": ".py",
   "mimetype": "text/x-python",
   "name": "python",
   "nbconvert_exporter": "python",
   "pygments_lexer": "ipython3",
   "version": "3.10.14"
  }
 },
 "nbformat": 4,
 "nbformat_minor": 5
}
